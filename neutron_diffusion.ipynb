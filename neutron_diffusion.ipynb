{
 "metadata": {
  "name": "neutron_diffusion"
 }, 
 "nbformat": 2, 
 "worksheets": [
  {
   "cells": [
    {
     "cell_type": "markdown", 
     "source": [
      "-----------------------------------------------------------------------------------------------------------------------------------", 
      "Define functions that return the characteristic path length between scatters and the time till diffusion to a distance distance_cm.", 
      "", 
      "-----------------------------------------------------------------------------------------------------------------------------------"
     ]
    }, 
    {
     "cell_type": "code", 
     "collapsed": true, 
     "input": [
      "def avgPath_cm(density_percc, scattering_crossSection_sqc):", 
      "    return 1/(density_percc*scattering_crossSection_sqc);", 
      "", 
      "def diffTime_s(distance_cm, speed_cmpers, density_percc, scattering_crossSection_sqc):", 
      "    L = avgPath_cm(density_percc, scattering_crossSection_sqc);", 
      "    return (distance_cm/L)**2 / (density_percc * scattering_crossSection_sqc * speed_cmpers);"
     ], 
     "language": "python", 
     "outputs": [], 
     "prompt_number": 4
    }, 
    {
     "cell_type": "markdown", 
     "source": [
      "-----------------------------------------------------------------------------------------------------------------------------------", 
      "Define constants: density of the material, velocity of the neutron, etc.", 
      "", 
      "-----------------------------------------------------------------------------------------------------------------------------------"
     ]
    }, 
    {
     "cell_type": "code", 
     "collapsed": false, 
     "input": [
      "# lead has a density of 11.4 g/cc", 
      "# and an atomic mass of 207", 
      "# and avagadro's number is 6.022 * 10^23", 
      "den_lead = 11.4;", 
      "amu_lead = 207;", 
      "n_a = 6.022 * 10**23;", 
      "", 
      "n_percc = den_lead*amu_lead*n_a;", 
      "print n_percc"
     ], 
     "language": "python", 
     "outputs": [
      {
       "output_type": "stream", 
       "stream": "stdout", 
       "text": [
        "1.42107156e+27"
       ]
      }
     ], 
     "prompt_number": 3
    }, 
    {
     "cell_type": "code", 
     "collapsed": true, 
     "input": [
      "# the neutron's speed", 
      "# and its cross section with lead at that speed", 
      "speed_cmpers = 1.2 * 10**6;", 
      "sig_sqc = 4 * 10**(-24);"
     ], 
     "language": "python", 
     "outputs": [], 
     "prompt_number": 6
    }, 
    {
     "cell_type": "code", 
     "collapsed": true, 
     "input": [
      "# how far away from the neutron's origin", 
      "# are we sitting?", 
      "dist_cm = 3;"
     ], 
     "language": "python", 
     "outputs": [], 
     "prompt_number": 12
    }, 
    {
     "cell_type": "markdown", 
     "source": [
      "-----------------------------------------------------------------------------------------------------------------------------------", 
      "Calculate the characteristic path length and the diffusion time", 
      "", 
      "-----------------------------------------------------------------------------------------------------------------------------------"
     ]
    }, 
    {
     "cell_type": "code", 
     "collapsed": false, 
     "input": [
      "print 'The characteristic path length between collisions is ', avgPath_cm(n_percc, sig_sqc)*10, 'mm.'", 
      "print 'The time scale for diffusion to distance ', dist_cm, 'cm is ', diffTime_s(dist_cm, speed_cmpers, n_percc, sig_sqc), 's.'"
     ], 
     "language": "python", 
     "outputs": [
      {
       "output_type": "stream", 
       "stream": "stdout", 
       "text": [
        "The characteristic path length between collisions is  0.00175923582624 mm.", 
        "The time scale for diffusion to distance  3 cm is  0.0426321468 s."
       ]
      }
     ], 
     "prompt_number": 18
    }, 
    {
     "cell_type": "code", 
     "collapsed": true, 
     "input": [], 
     "language": "python", 
     "outputs": []
    }
   ]
  }
 ]
}